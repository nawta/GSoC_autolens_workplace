{
 "cells": [
  {
   "cell_type": "markdown",
   "metadata": {},
   "source": [
    "Q. Using a deep learning algorithm of your choice, learn the representation of dark matter in the strong gravitational lensing images provided using PyTorch.\n",
    "The goal is to use this learned representation for anomaly detection, hence you should pick the most appropriate algorithm and discuss your strategy.\n",
    "\n",
    "A. Considering the purpose is anomaly detection, I choose Autoencoder as the most appropriate method, as discussed in [1]. I think Convolutional VAE (CVAE)[5] especially suits this purpose.\n",
    "Convolutional architecture is known to function relatively better in tasks about images than MLP(multilayer perception).\n",
    "Convolutional AutoEncoder(hereafter CAE)[2] incorpolates CNN's algorithm into itself, and according to [3],[4] (written in Japnanese), it clearly shows that CAE overwhelms other MLP algorithms, and it is said that it can function well without GPU.\n",
    "CVAE evolved from CAE, which add features of VAE. it is implemented on purpose of \n",
    "\n",
    "[1]Deep Learning the Morphology of Dark Matter Substructure, pp8\n",
    "https://arxiv.org/pdf/1909.07346.pdf\n",
    "\n",
    "[2]Deep Clustering with Convolutional Autoencoders\n",
    "https://link.springer.com/chapter/10.1007/978-3-319-70096-0_39\n",
    "\n",
    "[3]PytorchによるAutoEncoder Familyの実装(Implementation of various Autoencoders using PyTorch)\n",
    "https://elix-tech.github.io/ja/2016/07/17/autoencoder.html\n",
    "\n",
    "[4]様々なオートエンコーダによる異常検知(Anomaly Detection with lots of Autoencoders)\n",
    "https://sinyblog.com/deaplearning/auto_encoder_001/\n",
    "\n",
    "[5]Semi-Supervised Learning with Deep Generative Models (CVAE)\n",
    "https://arxiv.org/abs/1406.5298\n",
    "\n",
    "[6]Latent representations of transient candidates from an astronomical image difference pipeline using Variational Autoencoders\n",
    "https://pdfs.semanticscholar.org/57ce/a9520008706b8cb190d94513e695068210cd.pdf\n",
    "\n",
    "[7]Convolutional Sparse Autoencoders for Image Classification (SCAE)\n",
    "https://ieeexplore.ieee.org/document/7962256"
   ]
  },
  {
   "cell_type": "code",
   "execution_count": 1,
   "metadata": {},
   "outputs": [],
   "source": [
    "import torch\n",
    "import torchvision"
   ]
  },
  {
   "cell_type": "code",
   "execution_count": null,
   "metadata": {},
   "outputs": [],
   "source": []
  }
 ],
 "metadata": {
  "kernelspec": {
   "display_name": "Python 3",
   "language": "python",
   "name": "python3"
  },
  "language_info": {
   "codemirror_mode": {
    "name": "ipython",
    "version": 3
   },
   "file_extension": ".py",
   "mimetype": "text/x-python",
   "name": "python",
   "nbconvert_exporter": "python",
   "pygments_lexer": "ipython3",
   "version": "3.7.6"
  }
 },
 "nbformat": 4,
 "nbformat_minor": 4
}
